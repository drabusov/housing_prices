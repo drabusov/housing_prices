{
 "cells": [
  {
   "cell_type": "code",
   "execution_count": 1,
   "metadata": {
    "execution": {
     "iopub.execute_input": "2022-01-21T18:04:50.407818Z",
     "iopub.status.busy": "2022-01-21T18:04:50.406476Z",
     "iopub.status.idle": "2022-01-21T18:04:52.128978Z",
     "shell.execute_reply": "2022-01-21T18:04:52.128332Z",
     "shell.execute_reply.started": "2022-01-21T17:59:19.622021Z"
    },
    "papermill": {
     "duration": 1.750694,
     "end_time": "2022-01-21T18:04:52.129135",
     "exception": false,
     "start_time": "2022-01-21T18:04:50.378441",
     "status": "completed"
    },
    "tags": []
   },
   "outputs": [],
   "source": [
    "from pathlib import Path\n",
    "\n",
    "import matplotlib.pyplot as plt\n",
    "import numpy as np\n",
    "import pandas as pd\n",
    "import seaborn as sns\n",
    "from IPython.display import display\n",
    "from pandas.api.types import CategoricalDtype\n",
    "\n",
    "from sklearn.metrics import mean_absolute_error\n",
    "from sklearn.model_selection import train_test_split\n",
    "\n",
    "from sklearn.preprocessing import StandardScaler, OrdinalEncoder, OneHotEncoder\n",
    "from sklearn.compose import make_column_transformer\n",
    "\n",
    "from sklearn.compose import ColumnTransformer\n",
    "from sklearn.pipeline import Pipeline\n",
    "from sklearn.impute import SimpleImputer\n",
    "\n",
    "from category_encoders import MEstimateEncoder\n",
    "from sklearn.cluster import KMeans\n",
    "from sklearn.decomposition import PCA\n",
    "from sklearn.feature_selection import mutual_info_regression\n",
    "from sklearn.model_selection import KFold, cross_val_score\n",
    "from xgboost import XGBRegressor"
   ]
  },
  {
   "cell_type": "code",
   "execution_count": 2,
   "metadata": {
    "execution": {
     "iopub.execute_input": "2022-01-21T18:04:52.170701Z",
     "iopub.status.busy": "2022-01-21T18:04:52.169701Z",
     "iopub.status.idle": "2022-01-21T18:04:52.172608Z",
     "shell.execute_reply": "2022-01-21T18:04:52.171967Z",
     "shell.execute_reply.started": "2022-01-21T17:59:24.111722Z"
    },
    "papermill": {
     "duration": 0.026452,
     "end_time": "2022-01-21T18:04:52.172773",
     "exception": false,
     "start_time": "2022-01-21T18:04:52.146321",
     "status": "completed"
    },
    "tags": []
   },
   "outputs": [],
   "source": [
    "# data cleaning\n",
    "def clean_data(df):\n",
    "    # typo (cannot change the score)\n",
    "    df[\"Exterior2nd\"] = df[\"Exterior2nd\"].replace({\"Brk Cmn\": \"BrkComm\"})\n",
    "    # missing info about garages to fill with some data which is close\n",
    "    df[\"GarageYrBlt\"] = df[\"GarageYrBlt\"].where(df[\"GarageYrBlt\"].isna()==False, df[\"YearBuilt\"])\n",
    "    # the oposite replace is not needed\n",
    "    return df"
   ]
  },
  {
   "cell_type": "code",
   "execution_count": 3,
   "metadata": {
    "execution": {
     "iopub.execute_input": "2022-01-21T18:04:52.219749Z",
     "iopub.status.busy": "2022-01-21T18:04:52.216637Z",
     "iopub.status.idle": "2022-01-21T18:04:52.221970Z",
     "shell.execute_reply": "2022-01-21T18:04:52.222733Z",
     "shell.execute_reply.started": "2022-01-21T17:59:24.817628Z"
    },
    "papermill": {
     "duration": 0.027535,
     "end_time": "2022-01-21T18:04:52.222972",
     "exception": false,
     "start_time": "2022-01-21T18:04:52.195437",
     "status": "completed"
    },
    "tags": []
   },
   "outputs": [],
   "source": [
    "# imputing\n",
    "\n",
    "def impute(df):\n",
    "    for name in df.select_dtypes(\"number\"):\n",
    "        df[name] = df[name].fillna(0)\n",
    "    for name in df.select_dtypes(\"category\"):\n",
    "        df[name] = df[name].fillna(\"None\")\n",
    "        #if df[name].isna().sum() > len(df[name]) / 2.:\n",
    "        #    df[name] = df[name].fillna(\"None\")\n",
    "        #else:\n",
    "        #    df[name] = df[name].fillna(df[name].value_counts().index[0])\n",
    "    return df"
   ]
  },
  {
   "cell_type": "code",
   "execution_count": 4,
   "metadata": {
    "execution": {
     "iopub.execute_input": "2022-01-21T18:04:52.278555Z",
     "iopub.status.busy": "2022-01-21T18:04:52.277693Z",
     "iopub.status.idle": "2022-01-21T18:04:52.289350Z",
     "shell.execute_reply": "2022-01-21T18:04:52.290083Z",
     "shell.execute_reply.started": "2022-01-21T17:59:25.487665Z"
    },
    "papermill": {
     "duration": 0.041571,
     "end_time": "2022-01-21T18:04:52.290395",
     "exception": false,
     "start_time": "2022-01-21T18:04:52.248824",
     "status": "completed"
    },
    "tags": []
   },
   "outputs": [],
   "source": [
    "# The nominative (unordered) categorical features\n",
    "#features_nom = [\"CentralAir\", \"MSSubClass\", \"MSZoning\", \"Street\", \"Alley\", \"LandContour\", \"LotConfig\", \"Neighborhood\", \"Condition1\", \"Condition2\", \"BldgType\", \"HouseStyle\", \"RoofStyle\", \"RoofMatl\", \"Exterior1st\", \"Exterior2nd\", \"MasVnrType\", \"Foundation\", \"Heating\", \"CentralAir\", \"GarageType\", \"MiscFeature\", \"SaleType\", \"SaleCondition\"]\n",
    "features_nom = [\"MSSubClass\", \"MSZoning\", \"Street\", \"Alley\", \"LandContour\", \"LotConfig\", \"Neighborhood\", \"Condition1\", \"Condition2\", \"BldgType\", \"HouseStyle\", \"RoofStyle\", \"RoofMatl\", \"Exterior1st\", \"Exterior2nd\", \"MasVnrType\", \"Foundation\", \"Heating\", \"CentralAir\", \"GarageType\", \"MiscFeature\", \"SaleType\", \"SaleCondition\"]\n",
    "\n",
    "\n",
    "# The ordinal (ordered) categorical features \n",
    "\n",
    "# Pandas calls the categories \"levels\"\n",
    "five_levels = [\"Po\", \"Fa\", \"TA\", \"Gd\", \"Ex\"]\n",
    "ten_levels = list(range(10))\n",
    "\n",
    "ordered_levels = {\n",
    "    \"OverallQual\": ten_levels,\n",
    "    \"OverallCond\": ten_levels,\n",
    "    \"ExterQual\": five_levels,\n",
    "    \"ExterCond\": five_levels,\n",
    "    \"BsmtQual\": five_levels,\n",
    "    \"BsmtCond\": five_levels,\n",
    "    \"HeatingQC\": five_levels,\n",
    "    \"KitchenQual\": five_levels,\n",
    "    \"FireplaceQu\": five_levels,\n",
    "    \"GarageQual\": five_levels,\n",
    "    \"GarageCond\": five_levels,\n",
    "    \"PoolQC\": five_levels,\n",
    "    \"LotShape\": [\"Reg\", \"IR1\", \"IR2\", \"IR3\"],\n",
    "    \"LandSlope\": [\"Sev\", \"Mod\", \"Gtl\"],\n",
    "    \"BsmtExposure\": [\"No\", \"Mn\", \"Av\", \"Gd\"],\n",
    "    \"BsmtFinType1\": [\"Unf\", \"LwQ\", \"Rec\", \"BLQ\", \"ALQ\", \"GLQ\"],\n",
    "    \"BsmtFinType2\": [\"Unf\", \"LwQ\", \"Rec\", \"BLQ\", \"ALQ\", \"GLQ\"],\n",
    "    \"Functional\": [\"Sal\", \"Sev\", \"Maj1\", \"Maj2\", \"Mod\", \"Min2\", \"Min1\", \"Typ\"],\n",
    "    \"GarageFinish\": [\"Unf\", \"RFn\", \"Fin\"],\n",
    "    \"PavedDrive\": [\"N\", \"P\", \"Y\"],\n",
    "    \"Utilities\": [\"NoSeWa\", \"NoSewr\", \"AllPub\"],\n",
    "    \"CentralAir\": [\"N\", \"Y\"],\n",
    "    \"Electrical\": [\"Mix\", \"FuseP\", \"FuseF\", \"FuseA\", \"SBrkr\"],\n",
    "    \"Fence\": [\"MnWw\", \"GdWo\", \"MnPrv\", \"GdPrv\"],\n",
    "}\n",
    "\n",
    "# Add a None level for missing values\n",
    "ordered_levels = {key: [\"None\"] + value for key, value in\n",
    "                  ordered_levels.items()}\n",
    "\n",
    "\n",
    "def encode(df):\n",
    "    # Nominal categories\n",
    "    for name in features_nom:\n",
    "        df[name] = df[name].astype(\"category\")\n",
    "        # Add a None category for missing values\n",
    "        if \"None\" not in df[name].cat.categories:\n",
    "            df[name].cat.add_categories(\"None\", inplace=True)\n",
    "    # Ordinal categories\n",
    "    for name, levels in ordered_levels.items():\n",
    "        df[name] = df[name].astype(CategoricalDtype(levels,\n",
    "                                                    ordered=True))\n",
    "    return df"
   ]
  },
  {
   "cell_type": "code",
   "execution_count": 5,
   "metadata": {
    "execution": {
     "iopub.execute_input": "2022-01-21T18:04:52.332928Z",
     "iopub.status.busy": "2022-01-21T18:04:52.328876Z",
     "iopub.status.idle": "2022-01-21T18:04:52.335073Z",
     "shell.execute_reply": "2022-01-21T18:04:52.335640Z",
     "shell.execute_reply.started": "2022-01-21T17:59:27.578958Z"
    },
    "papermill": {
     "duration": 0.026983,
     "end_time": "2022-01-21T18:04:52.335825",
     "exception": false,
     "start_time": "2022-01-21T18:04:52.308842",
     "status": "completed"
    },
    "tags": []
   },
   "outputs": [],
   "source": [
    "def load_data():\n",
    "    # Read data\n",
    "    #data_dir = Path(\"../input/house-prices-advanced-regression-techniques/\")\n",
    "    data_dir = Path(\"./\")\n",
    "    df_train = pd.read_csv(data_dir / \"train.csv\", index_col=\"Id\")\n",
    "    df_test = pd.read_csv(data_dir / \"test.csv\", index_col=\"Id\")\n",
    "    # Merge the splits so we can process them together\n",
    "    df = pd.concat([df_train, df_test])\n",
    "    # Preprocessing\n",
    "    df = clean_data(df)\n",
    "    df = encode(df)\n",
    "    df = impute(df)\n",
    "    # Reform splits\n",
    "    df_train = df.loc[df_train.index, :]\n",
    "    df_test = df.loc[df_test.index, :]\n",
    "    return df_train, df_test"
   ]
  },
  {
   "cell_type": "code",
   "execution_count": 6,
   "metadata": {
    "execution": {
     "iopub.execute_input": "2022-01-21T18:04:52.376143Z",
     "iopub.status.busy": "2022-01-21T18:04:52.373632Z",
     "iopub.status.idle": "2022-01-21T18:04:52.568861Z",
     "shell.execute_reply": "2022-01-21T18:04:52.569323Z",
     "shell.execute_reply.started": "2022-01-21T17:59:29.580772Z"
    },
    "papermill": {
     "duration": 0.216339,
     "end_time": "2022-01-21T18:04:52.569509",
     "exception": false,
     "start_time": "2022-01-21T18:04:52.353170",
     "status": "completed"
    },
    "tags": []
   },
   "outputs": [
    {
     "name": "stderr",
     "output_type": "stream",
     "text": [
      "/home/laptop/anaconda3/lib/python3.7/site-packages/ipykernel_launcher.py:8: FutureWarning: Sorting because non-concatenation axis is not aligned. A future version\n",
      "of pandas will change to not sort by default.\n",
      "\n",
      "To accept the future behavior, pass 'sort=False'.\n",
      "\n",
      "To retain the current behavior and silence the warning, pass 'sort=True'.\n",
      "\n",
      "  \n"
     ]
    }
   ],
   "source": [
    "df_train, df_test = load_data()"
   ]
  },
  {
   "cell_type": "code",
   "execution_count": 7,
   "metadata": {
    "execution": {
     "iopub.execute_input": "2022-01-21T18:04:52.608962Z",
     "iopub.status.busy": "2022-01-21T18:04:52.608283Z",
     "iopub.status.idle": "2022-01-21T18:04:52.614796Z",
     "shell.execute_reply": "2022-01-21T18:04:52.614241Z",
     "shell.execute_reply.started": "2022-01-21T17:59:33.840860Z"
    },
    "papermill": {
     "duration": 0.027387,
     "end_time": "2022-01-21T18:04:52.614930",
     "exception": false,
     "start_time": "2022-01-21T18:04:52.587543",
     "status": "completed"
    },
    "tags": []
   },
   "outputs": [],
   "source": [
    "def encode_categorical(X):\n",
    "    for colname in X.select_dtypes([\"category\"]):\n",
    "        X[colname] = X[colname].cat.codes\n",
    "    return X\n",
    "\n",
    "def score_dataset(X, y, model=XGBRegressor()):\n",
    "    # Label encoding for categoricals\n",
    "    #\n",
    "    # Label encoding is good for XGBoost and RandomForest, but one-hot\n",
    "    # would be better for models like Lasso or Ridge. The `cat.codes` # Rewrite for them\n",
    "    # attribute holds the category levels.\n",
    "    X = encode_categorical(X)\n",
    "    # Metric for Housing competition is RMSLE (Root Mean Squared Log Error)\n",
    "    log_y = np.log(y)\n",
    "    score = cross_val_score(\n",
    "        model, X, log_y, cv=5, scoring=\"neg_mean_squared_error\",\n",
    "    )\n",
    "    score = -1 * score.mean()\n",
    "    score = np.sqrt(score)\n",
    "    return score"
   ]
  },
  {
   "cell_type": "code",
   "execution_count": 8,
   "metadata": {
    "execution": {
     "iopub.execute_input": "2022-01-21T18:04:52.657080Z",
     "iopub.status.busy": "2022-01-21T18:04:52.656460Z",
     "iopub.status.idle": "2022-01-21T18:04:55.513852Z",
     "shell.execute_reply": "2022-01-21T18:04:55.513190Z",
     "shell.execute_reply.started": "2022-01-21T17:59:36.488327Z"
    },
    "papermill": {
     "duration": 2.879803,
     "end_time": "2022-01-21T18:04:55.513987",
     "exception": false,
     "start_time": "2022-01-21T18:04:52.634184",
     "status": "completed"
    },
    "tags": []
   },
   "outputs": [
    {
     "name": "stdout",
     "output_type": "stream",
     "text": [
      "Baseline score: 0.14257 RMSLE\n"
     ]
    }
   ],
   "source": [
    "X = df_train.copy()\n",
    "y = X.pop(\"SalePrice\")\n",
    "\n",
    "baseline_score = score_dataset(X, y)\n",
    "print(f\"Baseline score: {baseline_score:.5f} RMSLE\")"
   ]
  },
  {
   "cell_type": "code",
   "execution_count": 9,
   "metadata": {
    "execution": {
     "iopub.execute_input": "2022-01-21T18:04:55.558928Z",
     "iopub.status.busy": "2022-01-21T18:04:55.558220Z",
     "iopub.status.idle": "2022-01-21T18:04:55.560178Z",
     "shell.execute_reply": "2022-01-21T18:04:55.560605Z",
     "shell.execute_reply.started": "2022-01-21T17:59:49.550275Z"
    },
    "papermill": {
     "duration": 0.028782,
     "end_time": "2022-01-21T18:04:55.560780",
     "exception": false,
     "start_time": "2022-01-21T18:04:55.531998",
     "status": "completed"
    },
    "tags": []
   },
   "outputs": [],
   "source": [
    "def make_mi_scores(X, y):\n",
    "    X = X.copy()\n",
    "    for colname in X.select_dtypes([\"object\", \"category\"]):\n",
    "        X[colname], _ = X[colname].factorize()\n",
    "    # All discrete features should now have integer dtypes\n",
    "    discrete_features = [pd.api.types.is_integer_dtype(t) for t in X.dtypes]\n",
    "    mi_scores = mutual_info_regression(X, y, discrete_features=discrete_features, random_state=0)\n",
    "    mi_scores = pd.Series(mi_scores, name=\"MI Scores\", index=X.columns)\n",
    "    mi_scores = mi_scores.sort_values(ascending=False)\n",
    "    return mi_scores\n",
    "\n",
    "\n",
    "def plot_mi_scores(scores):\n",
    "    scores = scores.sort_values(ascending=True)\n",
    "    width = np.arange(len(scores))\n",
    "    ticks = list(scores.index)\n",
    "    plt.barh(width, scores)\n",
    "    plt.yticks(width, ticks)\n",
    "    plt.title(\"Mutual Information Scores\")\n",
    "    \n",
    "def drop_uninformative(df, mi_scores):\n",
    "    return df.loc[:, mi_scores > 0.0]"
   ]
  },
  {
   "cell_type": "code",
   "execution_count": 10,
   "metadata": {
    "execution": {
     "iopub.execute_input": "2022-01-21T18:04:55.603926Z",
     "iopub.status.busy": "2022-01-21T18:04:55.601793Z",
     "iopub.status.idle": "2022-01-21T18:04:56.874274Z",
     "shell.execute_reply": "2022-01-21T18:04:56.873662Z",
     "shell.execute_reply.started": "2022-01-21T17:59:50.633232Z"
    },
    "papermill": {
     "duration": 1.296025,
     "end_time": "2022-01-21T18:04:56.874425",
     "exception": false,
     "start_time": "2022-01-21T18:04:55.578400",
     "status": "completed"
    },
    "tags": []
   },
   "outputs": [
    {
     "data": {
      "image/png": "[encoded data removed]",
      "text/plain": [
       "<Figure size 720x720 with 4 Axes>"
      ]
     },
     "metadata": {
      "needs_background": "light"
     },
     "output_type": "display_data"
    }
   ],
   "source": [
    "def corrplot(df, method=\"pearson\", annot=True, **kwargs):\n",
    "    sns.clustermap(\n",
    "        df.corr(method),\n",
    "        vmin=-1.0,\n",
    "        vmax=1.0,\n",
    "        cmap=\"icefire\",\n",
    "        method=\"complete\",\n",
    "        annot=annot,\n",
    "        **kwargs,\n",
    "    )\n",
    "\n",
    "\n",
    "corrplot(df_train, annot=None)"
   ]
  },
  {
   "cell_type": "code",
   "execution_count": 11,
   "metadata": {
    "execution": {
     "iopub.execute_input": "2022-01-21T18:04:56.917202Z",
     "iopub.status.busy": "2022-01-21T18:04:56.916646Z",
     "iopub.status.idle": "2022-01-21T18:04:58.947092Z",
     "shell.execute_reply": "2022-01-21T18:04:58.947531Z",
     "shell.execute_reply.started": "2022-01-21T18:00:27.254999Z"
    },
    "papermill": {
     "duration": 2.053548,
     "end_time": "2022-01-21T18:04:58.947713",
     "exception": false,
     "start_time": "2022-01-21T18:04:56.894165",
     "status": "completed"
    },
    "tags": []
   },
   "outputs": [
    {
     "data": {
      "text/plain": [
       "OverallQual     0.571457\n",
       "Neighborhood    0.526220\n",
       "GrLivArea       0.430395\n",
       "YearBuilt       0.407974\n",
       "LotArea         0.394468\n",
       "TotalBsmtSF     0.367449\n",
       "GarageArea      0.359382\n",
       "GarageCars      0.354152\n",
       "BsmtQual        0.330803\n",
       "KitchenQual     0.324679\n",
       "Name: MI Scores, dtype: float64"
      ]
     },
     "execution_count": 11,
     "metadata": {},
     "output_type": "execute_result"
    }
   ],
   "source": [
    "X = df_train.copy()\n",
    "y = X.pop(\"SalePrice\")\n",
    "\n",
    "mi_scores = make_mi_scores(X, y)\n",
    "mi_scores[:10]"
   ]
  },
  {
   "cell_type": "code",
   "execution_count": 12,
   "metadata": {
    "execution": {
     "iopub.execute_input": "2022-01-21T18:04:59.008011Z",
     "iopub.status.busy": "2022-01-21T18:04:59.005708Z",
     "iopub.status.idle": "2022-01-21T18:04:59.285978Z",
     "shell.execute_reply": "2022-01-21T18:04:59.285499Z",
     "shell.execute_reply.started": "2022-01-21T18:00:29.628386Z"
    },
    "papermill": {
     "duration": 0.317997,
     "end_time": "2022-01-21T18:04:59.286114",
     "exception": false,
     "start_time": "2022-01-21T18:04:58.968117",
     "status": "completed"
    },
    "tags": []
   },
   "outputs": [
    {
     "data": {
      "image/png": "[encoded data removed]",
      "text/plain": [
       "<Figure size 432x288 with 1 Axes>"
      ]
     },
     "metadata": {
      "needs_background": "light"
     },
     "output_type": "display_data"
    }
   ],
   "source": [
    "plot_mi_scores(mi_scores[:20])"
   ]
  },
  {
   "cell_type": "code",
   "execution_count": 13,
   "metadata": {
    "execution": {
     "iopub.execute_input": "2022-01-21T18:04:59.331270Z",
     "iopub.status.busy": "2022-01-21T18:04:59.330375Z",
     "iopub.status.idle": "2022-01-21T18:04:59.687517Z",
     "shell.execute_reply": "2022-01-21T18:04:59.686551Z",
     "shell.execute_reply.started": "2022-01-21T18:01:00.847580Z"
    },
    "papermill": {
     "duration": 0.380561,
     "end_time": "2022-01-21T18:04:59.687664",
     "exception": false,
     "start_time": "2022-01-21T18:04:59.307103",
     "status": "completed"
    },
    "tags": []
   },
   "outputs": [
    {
     "data": {
      "image/png": "[encoded data removed]",
      "text/plain": [
       "<Figure size 576x288 with 2 Axes>"
      ]
     },
     "metadata": {
      "needs_background": "light"
     },
     "output_type": "display_data"
    }
   ],
   "source": [
    "names = X.select_dtypes(\"float\").columns\n",
    "# candidates = 1,3\n",
    "tmp = X.copy()\n",
    "n = 5\n",
    "\n",
    "tmp[f\"Log{names[n]}\"] = tmp[names[n]].apply(np.log1p)\n",
    "\n",
    "# Plot a comparison\n",
    "fig, axs = plt.subplots(1, 2, figsize=(8, 4))\n",
    "sns.kdeplot(tmp[names[n]], shade=True, ax=axs[0])\n",
    "sns.kdeplot(tmp[f\"Log{names[n]}\"], shade=True, ax=axs[1]);"
   ]
  },
  {
   "cell_type": "code",
   "execution_count": 14,
   "metadata": {
    "execution": {
     "iopub.execute_input": "2022-01-21T18:04:59.735540Z",
     "iopub.status.busy": "2022-01-21T18:04:59.734521Z",
     "iopub.status.idle": "2022-01-21T18:04:59.745506Z",
     "shell.execute_reply": "2022-01-21T18:04:59.744991Z",
     "shell.execute_reply.started": "2022-01-21T18:01:05.964961Z"
    },
    "papermill": {
     "duration": 0.036144,
     "end_time": "2022-01-21T18:04:59.745651",
     "exception": false,
     "start_time": "2022-01-21T18:04:59.709507",
     "status": "completed"
    },
    "tags": []
   },
   "outputs": [],
   "source": [
    "# one-hot-encoding low-cardinality cols\n",
    "def ohe_encode(df, cardinality=5):\n",
    "    object_cols = df.select_dtypes([\"object\", \"category\"]).columns\n",
    "    low_cardinality_cols = [col for col in object_cols if df[col].nunique() < cardinality]\n",
    "    \n",
    "    enc = OneHotEncoder(handle_unknown='ignore', sparse=False)\n",
    "    X = pd.DataFrame(enc.fit_transform(df[low_cardinality_cols]))\n",
    "    X.index = df.index\n",
    "    return X\n",
    "\n",
    "# Logarithms of numeric features. If a feature has a skewed distribution, applying a logarithm can help normalize it.\n",
    "def log_normalizing(df, cols):\n",
    "    X = pd.DataFrame()\n",
    "    for col in cols:\n",
    "        X[f\"Log{col}\"] = df[col].apply(np.log1p)\n",
    "    return X\n",
    "\n",
    "def math_transforms(df):\n",
    "    X = pd.DataFrame()\n",
    "    X[\"LivLotRatio\"] = df[\"GrLivArea\"] / df[\"LotArea\"]\n",
    "    X[\"Spaciousness\"] = (df[\"1stFlrSF\"] + df[\"2ndFlrSF\"]) / df[\"TotRmsAbvGrd\"]\n",
    "    return X\n",
    "\n",
    "def group_transforms(df):\n",
    "    X = pd.DataFrame()\n",
    "    #X[\"MedNhbdArea\"] = df.groupby(\"Neighborhood\")[\"GrLivArea\"].transform(\"median\")\n",
    "    X[\"MedQualArea\"] = df.groupby(\"OverallQual\")[\"GrLivArea\"].transform(\"median\")\n",
    "    return X\n",
    "\n",
    "def count_transforms(df):\n",
    "    X = pd.DataFrame()\n",
    "    features = [\"WoodDeckSF\",\"OpenPorchSF\",\"EnclosedPorch\",\"3SsnPorch\",\"ScreenPorch\"]\n",
    "    X[\"PorchTypes\"] = df[features].gt(0.0).sum(axis=1)\n",
    "    return X\n",
    "\n",
    "# clustering\n",
    "def clustering_features(df, features, n_clusters=10):\n",
    "  \n",
    "    X_scaled = df[features].copy() # df.loc[:, features]\n",
    "    X_scaled = (X_scaled - X_scaled.mean(axis = 0)) / X_scaled.std(axis = 0)\n",
    "\n",
    "    kmeans = KMeans(n_clusters=n_clusters, n_init=50, random_state=0)\n",
    "    X1 = pd.DataFrame(kmeans.fit_predict(X_scaled), columns = [\"Cluster\"], index=df.index)\n",
    "    \n",
    "    #centroids = kmeans.fit_transform(X_scaled)\n",
    "    #cent_cols = [f\"Centroid_{i}\" for i in range(centroids.shape[1])]\n",
    "    #X2 = pd.DataFrame(centroids, columns = cent_cols, index=df.index)\n",
    "       \n",
    "    return X1 # X1.join(X2)"
   ]
  },
  {
   "cell_type": "code",
   "execution_count": 15,
   "metadata": {
    "execution": {
     "iopub.execute_input": "2022-01-21T18:04:59.794187Z",
     "iopub.status.busy": "2022-01-21T18:04:59.793168Z",
     "iopub.status.idle": "2022-01-21T18:04:59.799053Z",
     "shell.execute_reply": "2022-01-21T18:04:59.799605Z",
     "shell.execute_reply.started": "2022-01-21T18:01:10.717054Z"
    },
    "papermill": {
     "duration": 0.031942,
     "end_time": "2022-01-21T18:04:59.799786",
     "exception": false,
     "start_time": "2022-01-21T18:04:59.767844",
     "status": "completed"
    },
    "tags": []
   },
   "outputs": [],
   "source": [
    "def apply_pca(X, standardize=True):\n",
    "    # Standardize\n",
    "    if standardize:\n",
    "        X = (X - X.mean(axis=0)) / X.std(axis=0)\n",
    "    # Create principal components\n",
    "    pca = PCA()\n",
    "    X_pca = pca.fit_transform(X)\n",
    "    # Convert to dataframe\n",
    "    component_names = [f\"PC{i+1}\" for i in range(X_pca.shape[1])]\n",
    "    X_pca = pd.DataFrame(X_pca, columns=component_names)\n",
    "    # Create loadings\n",
    "    loadings = pd.DataFrame(\n",
    "        pca.components_.T,  # transpose the matrix of loadings\n",
    "        columns=component_names,  # so the columns are the principal components\n",
    "        index=X.columns,  # and the rows are the original features\n",
    "    )\n",
    "    return pca, X_pca, loadings"
   ]
  },
  {
   "cell_type": "code",
   "execution_count": 16,
   "metadata": {
    "execution": {
     "iopub.execute_input": "2022-01-21T18:04:59.851050Z",
     "iopub.status.busy": "2022-01-21T18:04:59.850002Z",
     "iopub.status.idle": "2022-01-21T18:04:59.851892Z",
     "shell.execute_reply": "2022-01-21T18:04:59.852462Z",
     "shell.execute_reply.started": "2022-01-21T18:01:11.370787Z"
    },
    "papermill": {
     "duration": 0.030856,
     "end_time": "2022-01-21T18:04:59.852624",
     "exception": false,
     "start_time": "2022-01-21T18:04:59.821768",
     "status": "completed"
    },
    "tags": []
   },
   "outputs": [],
   "source": [
    "# PCA to dataset\n",
    "\n",
    "def pca_components(df, pca_features):\n",
    "    X = pd.DataFrame()\n",
    "    pca, X_pca, loadings = apply_pca(df[pca_features])\n",
    "    X[\"PC1\"] = X_pca[\"PC1\"]\n",
    "    X.index = df.index\n",
    "    return X\n",
    "    \n",
    "\n",
    "def indicate_outliers(df):\n",
    "    X_new = pd.DataFrame()\n",
    "    X_new[\"Outlier\"] = (df[\"Neighborhood\"] == \"Edwards\") & (df[\"SaleCondition\"] == \"Partial\")\n",
    "    return X_new\n"
   ]
  },
  {
   "cell_type": "code",
   "execution_count": 17,
   "metadata": {
    "execution": {
     "iopub.execute_input": "2022-01-21T18:04:59.905151Z",
     "iopub.status.busy": "2022-01-21T18:04:59.904222Z",
     "iopub.status.idle": "2022-01-21T18:04:59.906649Z",
     "shell.execute_reply": "2022-01-21T18:04:59.907122Z",
     "shell.execute_reply.started": "2022-01-21T18:01:15.347966Z"
    },
    "papermill": {
     "duration": 0.033179,
     "end_time": "2022-01-21T18:04:59.907292",
     "exception": false,
     "start_time": "2022-01-21T18:04:59.874113",
     "status": "completed"
    },
    "tags": []
   },
   "outputs": [],
   "source": [
    "def create_features(df, df_test=None):\n",
    "    \n",
    "    X = df.copy()\n",
    "    y = X.pop(\"SalePrice\")\n",
    "    mi_scores = make_mi_scores(X, y)\n",
    "\n",
    "    # Combine splits if test data is given\n",
    "    #\n",
    "    # If we're creating features for test set predictions, we should\n",
    "    # use all the data we have available. After creating our features,\n",
    "    # we'll recreate the splits.\n",
    "    if df_test is not None:\n",
    "        X_test = df_test.copy()\n",
    "        X_test.pop(\"SalePrice\")\n",
    "        X = pd.concat([X, X_test])\n",
    "\n",
    "    # Mutual Information (scores == 0)\n",
    "    X = drop_uninformative(X, mi_scores)\n",
    "\n",
    "    #Transformations\n",
    "    X = X.join(ohe_encode(X, cardinality=5))\n",
    "    X = X.join(log_normalizing(X, ['MasVnrArea', 'BsmtFinSF1', 'BsmtFinSF2', 'GarageArea']))\n",
    "    X = X.join(math_transforms(X))\n",
    "    X = X.join(group_transforms(X))\n",
    "    X = X.join(count_transforms(X))\n",
    "    \n",
    "    # Clustering (can't find any useful combination)\n",
    "    #cluster_features = [\"GrLivArea\", \"YearBuilt\", \"LotArea\", \"TotalBsmtSF\", \"GarageArea\"]\n",
    "    #X = X.join(clustering_features(X, cluster_features))  \n",
    "\n",
    "    # PCA\n",
    "    pca_features = [\"GarageArea\", \"YearRemodAdd\", \"TotalBsmtSF\", \"GrLivArea\"]\n",
    "    X = X.join(pca_components(X, pca_features))\n",
    "    X = X.join(indicate_outliers(X))\n",
    "\n",
    "    #X = label_encode(X)\n",
    "\n",
    "    # Reform splits\n",
    "    if df_test is not None:\n",
    "        X_test = X.loc[df_test.index, :]\n",
    "        X.drop(df_test.index, inplace=True)\n",
    "\n",
    "    # Lesson 6 - Target Encoder\n",
    "    #encoder = CrossFoldEncoder(MEstimateEncoder, m=1)\n",
    "    #X = X.join(encoder.fit_transform(X, y, cols=[\"MSSubClass\"]))\n",
    "    #if df_test is not None:\n",
    "    #    X_test = X_test.join(encoder.transform(X_test))\n",
    "\n",
    "    if df_test is not None:\n",
    "        return X, y, X_test\n",
    "    else:\n",
    "        return X, y"
   ]
  },
  {
   "cell_type": "code",
   "execution_count": 18,
   "metadata": {
    "execution": {
     "iopub.execute_input": "2022-01-21T18:04:59.954376Z",
     "iopub.status.busy": "2022-01-21T18:04:59.953126Z",
     "iopub.status.idle": "2022-01-21T18:05:05.988126Z",
     "shell.execute_reply": "2022-01-21T18:05:05.987289Z",
     "shell.execute_reply.started": "2022-01-21T18:01:25.604673Z"
    },
    "papermill": {
     "duration": 6.059391,
     "end_time": "2022-01-21T18:05:05.988282",
     "exception": false,
     "start_time": "2022-01-21T18:04:59.928891",
     "status": "completed"
    },
    "tags": []
   },
   "outputs": [
    {
     "data": {
      "text/plain": [
       "0.1368911005174795"
      ]
     },
     "execution_count": 18,
     "metadata": {},
     "output_type": "execute_result"
    }
   ],
   "source": [
    "X_train, y, X_test = create_features(df_train, df_test)\n",
    "\n",
    "score_dataset(X_train, y)"
   ]
  },
  {
   "cell_type": "markdown",
   "metadata": {
    "papermill": {
     "duration": 0.024437,
     "end_time": "2022-01-21T18:05:07.116443",
     "exception": false,
     "start_time": "2022-01-21T18:05:07.092006",
     "status": "completed"
    },
    "tags": []
   },
   "source": [
    "Improvement! Let's have some model tuning"
   ]
  },
  {
   "cell_type": "code",
   "execution_count": 19,
   "metadata": {
    "execution": {
     "iopub.execute_input": "2022-01-21T18:05:07.173537Z",
     "iopub.status.busy": "2022-01-21T18:05:07.172700Z",
     "iopub.status.idle": "2022-01-21T18:05:07.732506Z",
     "shell.execute_reply": "2022-01-21T18:05:07.731892Z",
     "shell.execute_reply.started": "2022-01-21T18:02:05.971220Z"
    },
    "papermill": {
     "duration": 0.591637,
     "end_time": "2022-01-21T18:05:07.732658",
     "exception": false,
     "start_time": "2022-01-21T18:05:07.141021",
     "status": "completed"
    },
    "tags": []
   },
   "outputs": [
    {
     "name": "stderr",
     "output_type": "stream",
     "text": [
      "\u001b[32m[I 2022-01-23 20:56:27,720]\u001b[0m Trial 0 finished with value: 0.12560598458233593 and parameters: {'max_depth': 5, 'learning_rate': 0.06520525738677899, 'n_estimators': 7498, 'min_child_weight': 10, 'colsample_bytree': 0.5137904668218467, 'subsample': 0.46194325685675786, 'reg_alpha': 0.000618374953146958, 'reg_lambda': 0.4334905864937758}. Best is trial 0 with value: 0.12560598458233593.\u001b[0m\n",
      "\u001b[32m[I 2022-01-23 20:57:06,698]\u001b[0m Trial 1 finished with value: 6.133210096077555 and parameters: {'max_depth': 5, 'learning_rate': 0.0001177698258436571, 'n_estimators': 5817, 'min_child_weight': 3, 'colsample_bytree': 0.9917343309849735, 'subsample': 0.5764559333681438, 'reg_alpha': 0.002098543129992967, 'reg_lambda': 55.54097203952576}. Best is trial 0 with value: 0.12560598458233593.\u001b[0m\n",
      "\u001b[32m[I 2022-01-23 20:57:31,475]\u001b[0m Trial 2 finished with value: 0.3937377536523425 and parameters: {'max_depth': 7, 'learning_rate': 0.01864296221427785, 'n_estimators': 5505, 'min_child_weight': 1, 'colsample_bytree': 0.3804106356494039, 'subsample': 0.24320873420533992, 'reg_alpha': 79.13977658413386, 'reg_lambda': 0.06013037860925651}. Best is trial 0 with value: 0.12560598458233593.\u001b[0m\n",
      "\u001b[32m[I 2022-01-23 20:58:18,311]\u001b[0m Trial 3 finished with value: 0.22066880449438683 and parameters: {'max_depth': 7, 'learning_rate': 0.003251785991170826, 'n_estimators': 6388, 'min_child_weight': 8, 'colsample_bytree': 0.5348900032620014, 'subsample': 0.5690917720467126, 'reg_alpha': 47.49570299812897, 'reg_lambda': 0.00017951273502139455}. Best is trial 0 with value: 0.12560598458233593.\u001b[0m\n",
      "\u001b[32m[I 2022-01-23 20:59:08,971]\u001b[0m Trial 4 finished with value: 0.12575331744128898 and parameters: {'max_depth': 8, 'learning_rate': 0.0629030778363419, 'n_estimators': 5933, 'min_child_weight': 6, 'colsample_bytree': 0.7369118390289131, 'subsample': 0.7142678832714595, 'reg_alpha': 0.009746389333872778, 'reg_lambda': 0.00018688348269134495}. Best is trial 0 with value: 0.12560598458233593.\u001b[0m\n",
      "\u001b[32m[I 2022-01-23 20:59:26,823]\u001b[0m Trial 5 finished with value: 5.66871655616251 and parameters: {'max_depth': 6, 'learning_rate': 0.00020683530703645162, 'n_estimators': 3454, 'min_child_weight': 6, 'colsample_bytree': 0.9972767470831623, 'subsample': 0.6073655597013448, 'reg_alpha': 13.119342109382341, 'reg_lambda': 0.8406154988344934}. Best is trial 0 with value: 0.12560598458233593.\u001b[0m\n",
      "\u001b[32m[I 2022-01-23 20:59:35,521]\u001b[0m Trial 6 finished with value: 0.12571592078494678 and parameters: {'max_depth': 10, 'learning_rate': 0.045386160289296894, 'n_estimators': 1344, 'min_child_weight': 8, 'colsample_bytree': 0.229142497033582, 'subsample': 0.36772590172152964, 'reg_alpha': 1.4743494692081145, 'reg_lambda': 4.921818066395496}. Best is trial 0 with value: 0.12560598458233593.\u001b[0m\n",
      "\u001b[32m[I 2022-01-23 21:00:14,478]\u001b[0m Trial 7 finished with value: 0.17154766114218195 and parameters: {'max_depth': 9, 'learning_rate': 0.0008767910888120366, 'n_estimators': 5685, 'min_child_weight': 10, 'colsample_bytree': 0.9780856425558206, 'subsample': 0.2183626132534114, 'reg_alpha': 0.7121037683668984, 'reg_lambda': 0.000383472366706247}. Best is trial 0 with value: 0.12560598458233593.\u001b[0m\n",
      "\u001b[32m[I 2022-01-23 21:00:53,590]\u001b[0m Trial 8 finished with value: 0.13643787490177958 and parameters: {'max_depth': 2, 'learning_rate': 0.0013063158876559858, 'n_estimators': 5725, 'min_child_weight': 2, 'colsample_bytree': 0.8326624183388549, 'subsample': 0.8175096446548868, 'reg_alpha': 0.0047641000721180314, 'reg_lambda': 0.5313910886781141}. Best is trial 0 with value: 0.12560598458233593.\u001b[0m\n",
      "\u001b[32m[I 2022-01-23 21:01:11,423]\u001b[0m Trial 9 finished with value: 0.13191405348166366 and parameters: {'max_depth': 7, 'learning_rate': 0.05415097538055884, 'n_estimators': 3920, 'min_child_weight': 5, 'colsample_bytree': 0.4096095891122138, 'subsample': 0.6169283807333255, 'reg_alpha': 5.592525997125881, 'reg_lambda': 0.00012755372634834635}. Best is trial 0 with value: 0.12560598458233593.\u001b[0m\n",
      "\u001b[32m[I 2022-01-23 21:02:08,566]\u001b[0m Trial 10 finished with value: 0.11998652929509435 and parameters: {'max_depth': 3, 'learning_rate': 0.009471051093900845, 'n_estimators': 7980, 'min_child_weight': 10, 'colsample_bytree': 0.6163820581133252, 'subsample': 0.43519937239831047, 'reg_alpha': 0.00012015619479344273, 'reg_lambda': 0.009830565107122565}. Best is trial 10 with value: 0.11998652929509435.\u001b[0m\n",
      "\u001b[32m[I 2022-01-23 21:03:04,860]\u001b[0m Trial 11 finished with value: 0.12041864908600741 and parameters: {'max_depth': 3, 'learning_rate': 0.007876926814661876, 'n_estimators': 7859, 'min_child_weight': 10, 'colsample_bytree': 0.6244708854743476, 'subsample': 0.41559851662271174, 'reg_alpha': 0.0001391356743166699, 'reg_lambda': 0.013580770471385548}. Best is trial 10 with value: 0.11998652929509435.\u001b[0m\n",
      "\u001b[32m[I 2022-01-23 21:03:48,373]\u001b[0m Trial 12 finished with value: 0.12133166010806538 and parameters: {'max_depth': 2, 'learning_rate': 0.007575971978339393, 'n_estimators': 7786, 'min_child_weight': 9, 'colsample_bytree': 0.6635475289139992, 'subsample': 0.3788942720519324, 'reg_alpha': 0.00011087823846176923, 'reg_lambda': 0.004910923701383528}. Best is trial 10 with value: 0.11998652929509435.\u001b[0m\n",
      "\u001b[32m[I 2022-01-23 21:04:51,807]\u001b[0m Trial 13 finished with value: 0.12070557893752548 and parameters: {'max_depth': 3, 'learning_rate': 0.009810593359402108, 'n_estimators': 7955, 'min_child_weight': 10, 'colsample_bytree': 0.8136663573978958, 'subsample': 0.3881718973556782, 'reg_alpha': 0.00012988641927023033, 'reg_lambda': 0.01007743074626023}. Best is trial 10 with value: 0.11998652929509435.\u001b[0m\n",
      "\u001b[32m[I 2022-01-23 21:05:54,563]\u001b[0m Trial 14 finished with value: 0.12045422467509388 and parameters: {'max_depth': 4, 'learning_rate': 0.0032395863441631073, 'n_estimators': 7056, 'min_child_weight': 8, 'colsample_bytree': 0.6160608521638616, 'subsample': 0.48314639470185017, 'reg_alpha': 0.10485995814025525, 'reg_lambda': 0.005204543862094408}. Best is trial 10 with value: 0.11998652929509435.\u001b[0m\n",
      "\u001b[32m[I 2022-01-23 21:06:07,322]\u001b[0m Trial 15 finished with value: 0.12227579118377642 and parameters: {'max_depth': 3, 'learning_rate': 0.017911807925828853, 'n_estimators': 2362, 'min_child_weight': 9, 'colsample_bytree': 0.43880841797127645, 'subsample': 0.27933091855591574, 'reg_alpha': 0.00010135514737398043, 'reg_lambda': 0.03464528723360779}. Best is trial 10 with value: 0.11998652929509435.\u001b[0m\n",
      "\u001b[32m[I 2022-01-23 21:06:52,042]\u001b[0m Trial 16 finished with value: 0.1312036988078328 and parameters: {'max_depth': 3, 'learning_rate': 0.0014210147964898827, 'n_estimators': 4667, 'min_child_weight': 7, 'colsample_bytree': 0.7071960008729888, 'subsample': 0.9756414721818311, 'reg_alpha': 0.02761557443965688, 'reg_lambda': 0.0014042424393629317}. Best is trial 10 with value: 0.11998652929509435.\u001b[0m\n",
      "\u001b[32m[I 2022-01-23 21:07:44,391]\u001b[0m Trial 17 finished with value: 0.11899487927820468 and parameters: {'max_depth': 4, 'learning_rate': 0.007004634899054686, 'n_estimators': 6853, 'min_child_weight': 4, 'colsample_bytree': 0.5503046169686944, 'subsample': 0.33395658882056023, 'reg_alpha': 0.000599647352872223, 'reg_lambda': 0.0012619516833126405}. Best is trial 17 with value: 0.11899487927820468.\u001b[0m\n",
      "\u001b[32m[I 2022-01-23 21:08:30,386]\u001b[0m Trial 18 finished with value: 0.3683593386811658 and parameters: {'max_depth': 5, 'learning_rate': 0.0005048223896157489, 'n_estimators': 6953, 'min_child_weight': 4, 'colsample_bytree': 0.30701957629328924, 'subsample': 0.2877099538440671, 'reg_alpha': 0.0005454770469414681, 'reg_lambda': 0.0015381746963248919}. Best is trial 17 with value: 0.11899487927820468.\u001b[0m\n",
      "\u001b[32m[I 2022-01-23 21:09:09,857]\u001b[0m Trial 19 finished with value: 0.12070291747728158 and parameters: {'max_depth': 4, 'learning_rate': 0.029624700173887516, 'n_estimators': 4592, 'min_child_weight': 4, 'colsample_bytree': 0.5415821805197205, 'subsample': 0.50248102710686, 'reg_alpha': 0.0010781589597120076, 'reg_lambda': 0.0008812984943370869}. Best is trial 17 with value: 0.11899487927820468.\u001b[0m\n"
     ]
    }
   ],
   "source": [
    "import optuna\n",
    "\n",
    "def objective(trial):\n",
    "    xgb_params = dict(\n",
    "        max_depth=trial.suggest_int(\"max_depth\", 2, 10),\n",
    "        learning_rate=trial.suggest_float(\"learning_rate\", 1e-4, 1e-1, log=True),\n",
    "        n_estimators=trial.suggest_int(\"n_estimators\", 500, 8000),\n",
    "        min_child_weight=trial.suggest_int(\"min_child_weight\", 1, 10),\n",
    "        colsample_bytree=trial.suggest_float(\"colsample_bytree\", 0.2, 1.0),\n",
    "        subsample=trial.suggest_float(\"subsample\", 0.2, 1.0),\n",
    "        reg_alpha=trial.suggest_float(\"reg_alpha\", 1e-4, 1e2, log=True),\n",
    "        reg_lambda=trial.suggest_float(\"reg_lambda\", 1e-4, 1e2, log=True),\n",
    "    )\n",
    "    xgb = XGBRegressor(**xgb_params)\n",
    "    return score_dataset(X_train, y, xgb)\n",
    "\n",
    "study = optuna.create_study(direction=\"minimize\")\n",
    "study.optimize(objective, n_trials=20)\n",
    "xgb_params = study.best_params\n"
   ]
  },
  {
   "cell_type": "code",
   "execution_count": 21,
   "metadata": {
    "execution": {
     "iopub.execute_input": "2022-01-21T18:05:07.787446Z",
     "iopub.status.busy": "2022-01-21T18:05:07.786809Z",
     "iopub.status.idle": "2022-01-21T18:05:07.788633Z",
     "shell.execute_reply": "2022-01-21T18:05:07.789120Z",
     "shell.execute_reply.started": "2022-01-21T18:02:08.975261Z"
    },
    "papermill": {
     "duration": 0.031779,
     "end_time": "2022-01-21T18:05:07.789293",
     "exception": false,
     "start_time": "2022-01-21T18:05:07.757514",
     "status": "completed"
    },
    "tags": []
   },
   "outputs": [],
   "source": [
    "#xgb_params\n",
    "xgb_params = {'max_depth': 4,\n",
    " 'learning_rate': 0.007004634899054686,\n",
    " 'n_estimators': 6853,\n",
    " 'min_child_weight': 4,\n",
    " 'colsample_bytree': 0.5503046169686944,\n",
    " 'subsample': 0.33395658882056023,\n",
    " 'reg_alpha': 0.000599647352872223,\n",
    " 'reg_lambda': 0.0012619516833126405\n",
    "}\n",
    "\n",
    "# output of optuna"
   ]
  },
  {
   "cell_type": "code",
   "execution_count": 22,
   "metadata": {
    "execution": {
     "iopub.execute_input": "2022-01-21T18:05:07.845210Z",
     "iopub.status.busy": "2022-01-21T18:05:07.844603Z",
     "iopub.status.idle": "2022-01-21T18:06:11.465668Z",
     "shell.execute_reply": "2022-01-21T18:06:11.466156Z",
     "shell.execute_reply.started": "2022-01-21T18:02:14.411620Z"
    },
    "papermill": {
     "duration": 63.652223,
     "end_time": "2022-01-21T18:06:11.466318",
     "exception": false,
     "start_time": "2022-01-21T18:05:07.814095",
     "status": "completed"
    },
    "tags": []
   },
   "outputs": [
    {
     "data": {
      "text/plain": [
       "0.11899487927820468"
      ]
     },
     "execution_count": 22,
     "metadata": {},
     "output_type": "execute_result"
    }
   ],
   "source": [
    "score_dataset(X_train, y, model=XGBRegressor(**xgb_params))"
   ]
  },
  {
   "cell_type": "markdown",
   "metadata": {
    "papermill": {
     "duration": 0.024345,
     "end_time": "2022-01-21T18:06:11.515242",
     "exception": false,
     "start_time": "2022-01-21T18:06:11.490897",
     "status": "completed"
    },
    "tags": []
   },
   "source": [
    "Improvement! "
   ]
  },
  {
   "cell_type": "code",
   "execution_count": 23,
   "metadata": {
    "execution": {
     "iopub.execute_input": "2022-01-21T18:06:11.570744Z",
     "iopub.status.busy": "2022-01-21T18:06:11.570089Z",
     "iopub.status.idle": "2022-01-21T18:06:27.486410Z",
     "shell.execute_reply": "2022-01-21T18:06:27.486948Z",
     "shell.execute_reply.started": "2022-01-21T18:03:24.754012Z"
    },
    "papermill": {
     "duration": 15.947344,
     "end_time": "2022-01-21T18:06:27.487126",
     "exception": false,
     "start_time": "2022-01-21T18:06:11.539782",
     "status": "completed"
    },
    "tags": []
   },
   "outputs": [],
   "source": [
    "X_train, y, X_test = create_features(df_train, df_test)\n",
    "\n",
    "xgb = XGBRegressor(**xgb_params)\n",
    "\n",
    "# final encoding\n",
    "X_train = encode_categorical(X_train)\n",
    "X_test = encode_categorical(X_test)\n",
    "\n",
    "# XGB minimizes MSE, but competition loss is RMSLE\n",
    "# So, we need to log-transform y to train and exp-transform the predictions\n",
    "xgb.fit(X_train, np.log(y))\n",
    "predictions = np.exp(xgb.predict(X_test))"
   ]
  },
  {
   "cell_type": "code",
   "execution_count": 26,
   "metadata": {
    "execution": {
     "iopub.execute_input": "2022-01-21T18:06:27.541119Z",
     "iopub.status.busy": "2022-01-21T18:06:27.540159Z",
     "iopub.status.idle": "2022-01-21T18:06:27.552306Z",
     "shell.execute_reply": "2022-01-21T18:06:27.552800Z",
     "shell.execute_reply.started": "2022-01-21T18:03:41.843542Z"
    },
    "papermill": {
     "duration": 0.040906,
     "end_time": "2022-01-21T18:06:27.552965",
     "exception": false,
     "start_time": "2022-01-21T18:06:27.512059",
     "status": "completed"
    },
    "tags": []
   },
   "outputs": [
    {
     "name": "stdout",
     "output_type": "stream",
     "text": [
      "Your submission was successfully saved!\n"
     ]
    }
   ],
   "source": [
    "output = pd.DataFrame({'Id': X_test.index, 'SalePrice': predictions})\n",
    "output.to_csv('./my_submission.csv', index=False)\n",
    "print(\"Your submission was successfully saved!\")"
   ]
  },
  {
   "cell_type": "code",
   "execution_count": null,
   "metadata": {
    "papermill": {
     "duration": 0.024926,
     "end_time": "2022-01-21T18:06:27.603209",
     "exception": false,
     "start_time": "2022-01-21T18:06:27.578283",
     "status": "completed"
    },
    "tags": []
   },
   "outputs": [],
   "source": []
  }
 ],
 "metadata": {
  "kernelspec": {
   "display_name": "Python 3",
   "language": "python",
   "name": "python3"
  },
  "language_info": {
   "codemirror_mode": {
    "name": "ipython",
    "version": 3
   },
   "file_extension": ".py",
   "mimetype": "text/x-python",
   "name": "python",
   "nbconvert_exporter": "python",
   "pygments_lexer": "ipython3",
   "version": "3.7.3"
  },
  "papermill": {
   "default_parameters": {},
   "duration": 106.766056,
   "end_time": "2022-01-21T18:06:28.438878",
   "environment_variables": {},
   "exception": null,
   "input_path": "__notebook__.ipynb",
   "output_path": "__notebook__.ipynb",
   "parameters": {},
   "start_time": "2022-01-21T18:04:41.672822",
   "version": "2.3.3"
  }
 },
 "nbformat": 4,
 "nbformat_minor": 5
}
